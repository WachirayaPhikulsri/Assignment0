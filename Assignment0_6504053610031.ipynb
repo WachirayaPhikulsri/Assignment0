from collections import Counter

def count_runs(trials):

    runs = Counter()
    current_run = 0
    for outcome in trials:
        if outcome == 1:
            current_run += 1
        else:
            if current_run > 0:
                runs[current_run] += 1
                current_run = 0

    if current_run > 0:
        runs[current_run] += 1
    return runs
print(count_runs([0, 1, 0, 1, 1, 0, 0, 0, 0, 1]))
import numpy as np
random_trials = np.random.randint(0, 2, 1000000)
print(count_runs(random_trials))
